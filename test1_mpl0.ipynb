{
  "nbformat": 4,
  "nbformat_minor": 0,
  "metadata": {
    "colab": {
      "provenance": [],
      "toc_visible": true,
      "authorship_tag": "ABX9TyOCcDgeBD5Q8/2eJCEfdPzR",
      "include_colab_link": true
    },
    "kernelspec": {
      "name": "python3",
      "display_name": "Python 3"
    },
    "language_info": {
      "name": "python"
    }
  },
  "cells": [
    {
      "cell_type": "markdown",
      "metadata": {
        "id": "view-in-github",
        "colab_type": "text"
      },
      "source": [
        "<a href=\"https://colab.research.google.com/github/pl0mar/colabs1_public/blob/main/test1_mpl0.ipynb\" target=\"_parent\"><img src=\"https://colab.research.google.com/assets/colab-badge.svg\" alt=\"Open In Colab\"/></a>"
      ]
    },
    {
      "cell_type": "code",
      "execution_count": null,
      "metadata": {
        "colab": {
          "base_uri": "https://localhost:8080/"
        },
        "id": "6NFRqd_SZmbM",
        "outputId": "a1499d17-314b-4fad-d0cb-69c2899ae017"
      },
      "outputs": [
        {
          "output_type": "stream",
          "name": "stdout",
          "text": [
            "Hello Colab\n"
          ]
        }
      ],
      "source": [
        "print(\"Hello Colab\")"
      ]
    },
    {
      "cell_type": "code",
      "source": [],
      "metadata": {
        "id": "DDO74fu0bQLG"
      },
      "execution_count": null,
      "outputs": []
    },
    {
      "cell_type": "markdown",
      "source": [],
      "metadata": {
        "id": "kWz8kvC-bQaa"
      }
    },
    {
      "cell_type": "code",
      "source": [
        "print(\"Hello again\")"
      ],
      "metadata": {
        "id": "yK82W3nubQkz",
        "colab": {
          "base_uri": "https://localhost:8080/"
        },
        "outputId": "a42cb94e-6252-47d1-98d0-abb82e745ef6"
      },
      "execution_count": 1,
      "outputs": [
        {
          "output_type": "stream",
          "name": "stdout",
          "text": [
            "Hello again\n"
          ]
        }
      ]
    },
    {
      "cell_type": "markdown",
      "source": [
        "Tekst 1"
      ],
      "metadata": {
        "id": "VklSd49WbTBl"
      }
    },
    {
      "cell_type": "markdown",
      "source": [
        "# Nowa sekcja"
      ],
      "metadata": {
        "id": "v2kEl_J5baYL"
      }
    }
  ]
}